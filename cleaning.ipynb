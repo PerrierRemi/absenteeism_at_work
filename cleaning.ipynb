{
 "metadata": {
  "language_info": {
   "codemirror_mode": {
    "name": "ipython",
    "version": 3
   },
   "file_extension": ".py",
   "mimetype": "text/x-python",
   "name": "python",
   "nbconvert_exporter": "python",
   "pygments_lexer": "ipython3",
   "version": "3.8.6-final"
  },
  "orig_nbformat": 2,
  "kernelspec": {
   "name": "Python 3.8.6 64-bit",
   "display_name": "Python 3.8.6 64-bit",
   "metadata": {
    "interpreter": {
     "hash": "879a9639522b42d9d3d0a34b4a65d8a50cd27bd2b71b44ff59bd543bc172e59f"
    }
   }
  }
 },
 "nbformat": 4,
 "nbformat_minor": 2,
 "cells": [
  {
   "source": [
    "## Raw EDA & Cleaning"
   ],
   "cell_type": "markdown",
   "metadata": {}
  },
  {
   "source": [
    "### Raw Data"
   ],
   "cell_type": "markdown",
   "metadata": {}
  },
  {
   "cell_type": "code",
   "execution_count": 1,
   "metadata": {},
   "outputs": [],
   "source": [
    "import pandas as pd\n",
    "from pandas_profiling import ProfileReport"
   ]
  },
  {
   "cell_type": "code",
   "execution_count": 2,
   "metadata": {},
   "outputs": [],
   "source": [
    "data = pd.read_csv('data/raw.csv', sep=';')"
   ]
  },
  {
   "cell_type": "code",
   "execution_count": 3,
   "metadata": {},
   "outputs": [
    {
     "output_type": "stream",
     "name": "stdout",
     "text": [
      "<class 'pandas.core.frame.DataFrame'>\nRangeIndex: 740 entries, 0 to 739\nData columns (total 21 columns):\n #   Column                           Non-Null Count  Dtype  \n---  ------                           --------------  -----  \n 0   ID                               740 non-null    int64  \n 1   Reason for absence               740 non-null    int64  \n 2   Month of absence                 740 non-null    int64  \n 3   Day of the week                  740 non-null    int64  \n 4   Seasons                          740 non-null    int64  \n 5   Transportation expense           740 non-null    int64  \n 6   Distance from Residence to Work  740 non-null    int64  \n 7   Service time                     740 non-null    int64  \n 8   Age                              740 non-null    int64  \n 9   Work load Average/day            740 non-null    float64\n 10  Hit target                       740 non-null    int64  \n 11  Disciplinary failure             740 non-null    int64  \n 12  Education                        740 non-null    int64  \n 13  Son                              740 non-null    int64  \n 14  Social drinker                   740 non-null    int64  \n 15  Social smoker                    740 non-null    int64  \n 16  Pet                              740 non-null    int64  \n 17  Weight                           740 non-null    int64  \n 18  Height                           740 non-null    int64  \n 19  Body mass index                  740 non-null    int64  \n 20  Absenteeism time in hours        740 non-null    int64  \ndtypes: float64(1), int64(20)\nmemory usage: 121.5 KB\n"
     ]
    }
   ],
   "source": [
    "# Info\n",
    "data.info()"
   ]
  },
  {
   "cell_type": "code",
   "execution_count": 4,
   "metadata": {},
   "outputs": [
    {
     "output_type": "stream",
     "name": "stderr",
     "text": [
      "Summarize dataset: 100%|██████████| 35/35 [00:26<00:00,  1.33it/s, Completed]\n",
      "Generate report structure: 100%|██████████| 1/1 [00:05<00:00,  5.54s/it]\n",
      "Render HTML: 100%|██████████| 1/1 [00:05<00:00,  5.12s/it]\n",
      "Export report to file: 100%|██████████| 1/1 [00:00<00:00, 12.73it/s]\n"
     ]
    }
   ],
   "source": [
    "# Profiling raw data\n",
    "rawdata = data\n",
    "rawdata['Reason for absence'] = data['Reason for absence'].astype('category')\n",
    "rawdata['Day of the week'] = data['Day of the week'].astype('category')\n",
    "rawdata['Month of absence'] = data['Month of absence'].astype('category')\n",
    "rawdata['Seasons'] = data['Seasons'].astype('category')\n",
    "rawdata['Disciplinary failure'] = data['Disciplinary failure'].astype('category')\n",
    "rawdata['Education'] = data['Education'].astype('category')\n",
    "rawdata['Social drinker'] = data['Social drinker'].astype(bool)\n",
    "rawdata['Social smoker'] = data['Social smoker'].astype(bool)\n",
    "profile = ProfileReport(rawdata, title='Raw Data Profile Report', duplicates=None)\n",
    "profile.to_file('docs/raw_profiling.html')"
   ]
  },
  {
   "cell_type": "code",
   "execution_count": 5,
   "metadata": {},
   "outputs": [
    {
     "output_type": "execute_result",
     "data": {
      "text/plain": [
       "     ID Reason for absence Month of absence Day of the week Seasons  \\\n",
       "0    11                 26                7               3       1   \n",
       "1    36                  0                7               3       1   \n",
       "2     3                 23                7               4       1   \n",
       "3     7                  7                7               5       1   \n",
       "4    11                 23                7               5       1   \n",
       "..   ..                ...              ...             ...     ...   \n",
       "735  11                 14                7               3       1   \n",
       "736   1                 11                7               3       1   \n",
       "737   4                  0                0               3       1   \n",
       "738   8                  0                0               4       2   \n",
       "739  35                  0                0               6       3   \n",
       "\n",
       "     Transportation expense  Distance from Residence to Work  Service time  \\\n",
       "0                       289                               36            13   \n",
       "1                       118                               13            18   \n",
       "2                       179                               51            18   \n",
       "3                       279                                5            14   \n",
       "4                       289                               36            13   \n",
       "..                      ...                              ...           ...   \n",
       "735                     289                               36            13   \n",
       "736                     235                               11            14   \n",
       "737                     118                               14            13   \n",
       "738                     231                               35            14   \n",
       "739                     179                               45            14   \n",
       "\n",
       "     Age  Work load Average/day   ...  Disciplinary failure Education Son  \\\n",
       "0     33                 239.554  ...                     0         1   2   \n",
       "1     50                 239.554  ...                     1         1   1   \n",
       "2     38                 239.554  ...                     0         1   0   \n",
       "3     39                 239.554  ...                     0         1   2   \n",
       "4     33                 239.554  ...                     0         1   2   \n",
       "..   ...                     ...  ...                   ...       ...  ..   \n",
       "735   33                 264.604  ...                     0         1   2   \n",
       "736   37                 264.604  ...                     0         3   1   \n",
       "737   40                 271.219  ...                     0         1   1   \n",
       "738   39                 271.219  ...                     0         1   2   \n",
       "739   53                 271.219  ...                     0         1   1   \n",
       "\n",
       "     Social drinker  Social smoker  Pet  Weight  Height  Body mass index  \\\n",
       "0              True          False    1      90     172               30   \n",
       "1              True          False    0      98     178               31   \n",
       "2              True          False    0      89     170               31   \n",
       "3              True           True    0      68     168               24   \n",
       "4              True          False    1      90     172               30   \n",
       "..              ...            ...  ...     ...     ...              ...   \n",
       "735            True          False    1      90     172               30   \n",
       "736           False          False    1      88     172               29   \n",
       "737            True          False    8      98     170               34   \n",
       "738            True          False    2     100     170               35   \n",
       "739           False          False    1      77     175               25   \n",
       "\n",
       "     Absenteeism time in hours  \n",
       "0                            4  \n",
       "1                            0  \n",
       "2                            2  \n",
       "3                            4  \n",
       "4                            2  \n",
       "..                         ...  \n",
       "735                          8  \n",
       "736                          4  \n",
       "737                          0  \n",
       "738                          0  \n",
       "739                          0  \n",
       "\n",
       "[740 rows x 21 columns]"
      ],
      "text/html": "<div>\n<style scoped>\n    .dataframe tbody tr th:only-of-type {\n        vertical-align: middle;\n    }\n\n    .dataframe tbody tr th {\n        vertical-align: top;\n    }\n\n    .dataframe thead th {\n        text-align: right;\n    }\n</style>\n<table border=\"1\" class=\"dataframe\">\n  <thead>\n    <tr style=\"text-align: right;\">\n      <th></th>\n      <th>ID</th>\n      <th>Reason for absence</th>\n      <th>Month of absence</th>\n      <th>Day of the week</th>\n      <th>Seasons</th>\n      <th>Transportation expense</th>\n      <th>Distance from Residence to Work</th>\n      <th>Service time</th>\n      <th>Age</th>\n      <th>Work load Average/day</th>\n      <th>...</th>\n      <th>Disciplinary failure</th>\n      <th>Education</th>\n      <th>Son</th>\n      <th>Social drinker</th>\n      <th>Social smoker</th>\n      <th>Pet</th>\n      <th>Weight</th>\n      <th>Height</th>\n      <th>Body mass index</th>\n      <th>Absenteeism time in hours</th>\n    </tr>\n  </thead>\n  <tbody>\n    <tr>\n      <th>0</th>\n      <td>11</td>\n      <td>26</td>\n      <td>7</td>\n      <td>3</td>\n      <td>1</td>\n      <td>289</td>\n      <td>36</td>\n      <td>13</td>\n      <td>33</td>\n      <td>239.554</td>\n      <td>...</td>\n      <td>0</td>\n      <td>1</td>\n      <td>2</td>\n      <td>True</td>\n      <td>False</td>\n      <td>1</td>\n      <td>90</td>\n      <td>172</td>\n      <td>30</td>\n      <td>4</td>\n    </tr>\n    <tr>\n      <th>1</th>\n      <td>36</td>\n      <td>0</td>\n      <td>7</td>\n      <td>3</td>\n      <td>1</td>\n      <td>118</td>\n      <td>13</td>\n      <td>18</td>\n      <td>50</td>\n      <td>239.554</td>\n      <td>...</td>\n      <td>1</td>\n      <td>1</td>\n      <td>1</td>\n      <td>True</td>\n      <td>False</td>\n      <td>0</td>\n      <td>98</td>\n      <td>178</td>\n      <td>31</td>\n      <td>0</td>\n    </tr>\n    <tr>\n      <th>2</th>\n      <td>3</td>\n      <td>23</td>\n      <td>7</td>\n      <td>4</td>\n      <td>1</td>\n      <td>179</td>\n      <td>51</td>\n      <td>18</td>\n      <td>38</td>\n      <td>239.554</td>\n      <td>...</td>\n      <td>0</td>\n      <td>1</td>\n      <td>0</td>\n      <td>True</td>\n      <td>False</td>\n      <td>0</td>\n      <td>89</td>\n      <td>170</td>\n      <td>31</td>\n      <td>2</td>\n    </tr>\n    <tr>\n      <th>3</th>\n      <td>7</td>\n      <td>7</td>\n      <td>7</td>\n      <td>5</td>\n      <td>1</td>\n      <td>279</td>\n      <td>5</td>\n      <td>14</td>\n      <td>39</td>\n      <td>239.554</td>\n      <td>...</td>\n      <td>0</td>\n      <td>1</td>\n      <td>2</td>\n      <td>True</td>\n      <td>True</td>\n      <td>0</td>\n      <td>68</td>\n      <td>168</td>\n      <td>24</td>\n      <td>4</td>\n    </tr>\n    <tr>\n      <th>4</th>\n      <td>11</td>\n      <td>23</td>\n      <td>7</td>\n      <td>5</td>\n      <td>1</td>\n      <td>289</td>\n      <td>36</td>\n      <td>13</td>\n      <td>33</td>\n      <td>239.554</td>\n      <td>...</td>\n      <td>0</td>\n      <td>1</td>\n      <td>2</td>\n      <td>True</td>\n      <td>False</td>\n      <td>1</td>\n      <td>90</td>\n      <td>172</td>\n      <td>30</td>\n      <td>2</td>\n    </tr>\n    <tr>\n      <th>...</th>\n      <td>...</td>\n      <td>...</td>\n      <td>...</td>\n      <td>...</td>\n      <td>...</td>\n      <td>...</td>\n      <td>...</td>\n      <td>...</td>\n      <td>...</td>\n      <td>...</td>\n      <td>...</td>\n      <td>...</td>\n      <td>...</td>\n      <td>...</td>\n      <td>...</td>\n      <td>...</td>\n      <td>...</td>\n      <td>...</td>\n      <td>...</td>\n      <td>...</td>\n      <td>...</td>\n    </tr>\n    <tr>\n      <th>735</th>\n      <td>11</td>\n      <td>14</td>\n      <td>7</td>\n      <td>3</td>\n      <td>1</td>\n      <td>289</td>\n      <td>36</td>\n      <td>13</td>\n      <td>33</td>\n      <td>264.604</td>\n      <td>...</td>\n      <td>0</td>\n      <td>1</td>\n      <td>2</td>\n      <td>True</td>\n      <td>False</td>\n      <td>1</td>\n      <td>90</td>\n      <td>172</td>\n      <td>30</td>\n      <td>8</td>\n    </tr>\n    <tr>\n      <th>736</th>\n      <td>1</td>\n      <td>11</td>\n      <td>7</td>\n      <td>3</td>\n      <td>1</td>\n      <td>235</td>\n      <td>11</td>\n      <td>14</td>\n      <td>37</td>\n      <td>264.604</td>\n      <td>...</td>\n      <td>0</td>\n      <td>3</td>\n      <td>1</td>\n      <td>False</td>\n      <td>False</td>\n      <td>1</td>\n      <td>88</td>\n      <td>172</td>\n      <td>29</td>\n      <td>4</td>\n    </tr>\n    <tr>\n      <th>737</th>\n      <td>4</td>\n      <td>0</td>\n      <td>0</td>\n      <td>3</td>\n      <td>1</td>\n      <td>118</td>\n      <td>14</td>\n      <td>13</td>\n      <td>40</td>\n      <td>271.219</td>\n      <td>...</td>\n      <td>0</td>\n      <td>1</td>\n      <td>1</td>\n      <td>True</td>\n      <td>False</td>\n      <td>8</td>\n      <td>98</td>\n      <td>170</td>\n      <td>34</td>\n      <td>0</td>\n    </tr>\n    <tr>\n      <th>738</th>\n      <td>8</td>\n      <td>0</td>\n      <td>0</td>\n      <td>4</td>\n      <td>2</td>\n      <td>231</td>\n      <td>35</td>\n      <td>14</td>\n      <td>39</td>\n      <td>271.219</td>\n      <td>...</td>\n      <td>0</td>\n      <td>1</td>\n      <td>2</td>\n      <td>True</td>\n      <td>False</td>\n      <td>2</td>\n      <td>100</td>\n      <td>170</td>\n      <td>35</td>\n      <td>0</td>\n    </tr>\n    <tr>\n      <th>739</th>\n      <td>35</td>\n      <td>0</td>\n      <td>0</td>\n      <td>6</td>\n      <td>3</td>\n      <td>179</td>\n      <td>45</td>\n      <td>14</td>\n      <td>53</td>\n      <td>271.219</td>\n      <td>...</td>\n      <td>0</td>\n      <td>1</td>\n      <td>1</td>\n      <td>False</td>\n      <td>False</td>\n      <td>1</td>\n      <td>77</td>\n      <td>175</td>\n      <td>25</td>\n      <td>0</td>\n    </tr>\n  </tbody>\n</table>\n<p>740 rows × 21 columns</p>\n</div>"
     },
     "metadata": {},
     "execution_count": 5
    }
   ],
   "source": [
    "rawdata"
   ]
  },
  {
   "source": [
    "### Cleaning"
   ],
   "cell_type": "markdown",
   "metadata": {}
  },
  {
   "cell_type": "code",
   "execution_count": 6,
   "metadata": {},
   "outputs": [],
   "source": [
    "# Delete duplicated rows\n",
    "data = data.drop_duplicates()"
   ]
  },
  {
   "cell_type": "code",
   "execution_count": 7,
   "metadata": {},
   "outputs": [],
   "source": [
    "# ID\n",
    "data['ID'] = data['ID'].astype('category')"
   ]
  },
  {
   "cell_type": "code",
   "execution_count": 8,
   "metadata": {},
   "outputs": [],
   "source": [
    "# Reason for absence\n",
    "data = data[data['Reason for absence'] != 0]\n",
    "data['Reason for absence'] = data['Reason for absence'].astype('category')"
   ]
  },
  {
   "cell_type": "code",
   "execution_count": 9,
   "metadata": {},
   "outputs": [],
   "source": [
    "# Month of absence\n",
    "data = data[data['Month of absence'] != 0]\n",
    "mapping = {\n",
    "    1: 'Jan',\n",
    "    2: 'Feb',\n",
    "    3: 'Mar',\n",
    "    4: 'Apr',\n",
    "    5: 'May',\n",
    "    6: 'Jun',\n",
    "    7: 'Jul',\n",
    "    8: 'Aug',\n",
    "    9: 'Sep',\n",
    "    10: 'Oct',\n",
    "    11: 'Nov',\n",
    "    12: 'Dec'\n",
    "}\n",
    "data['Month of absence'] = data['Month of absence'].replace(mapping)\n",
    "data['Month of absence'] = data['Month of absence'].astype('category')"
   ]
  },
  {
   "cell_type": "code",
   "execution_count": 10,
   "metadata": {},
   "outputs": [],
   "source": [
    "# Day of the week\n",
    "mapping = {\n",
    "    2: 'Monday',\n",
    "    3: 'Tuesday',\n",
    "    4: 'Wednesday',\n",
    "    5: 'Thursday',\n",
    "    6: 'Friday'\n",
    "}\n",
    "data['Day of the week'] = data['Day of the week'].replace(mapping)\n",
    "data['Day of the week'] = data['Day of the week'].astype('category')"
   ]
  },
  {
   "cell_type": "code",
   "execution_count": 11,
   "metadata": {},
   "outputs": [],
   "source": [
    "# Seasons \n",
    "mapping = {\n",
    "    1: 'Summer',\n",
    "    2: 'Autumn',\n",
    "    3: 'Winter',\n",
    "    4: 'Spring'\n",
    "}\n",
    "data['Seasons'] = data['Seasons'].replace(mapping)\n",
    "data['Seasons'] = data['Seasons'].astype('category')"
   ]
  },
  {
   "cell_type": "code",
   "execution_count": 12,
   "metadata": {},
   "outputs": [],
   "source": [
    "# Transportation expense"
   ]
  },
  {
   "cell_type": "code",
   "execution_count": 13,
   "metadata": {},
   "outputs": [],
   "source": [
    "# Distance from Residence to Work"
   ]
  },
  {
   "cell_type": "code",
   "execution_count": 14,
   "metadata": {},
   "outputs": [],
   "source": [
    "# Service time"
   ]
  },
  {
   "cell_type": "code",
   "execution_count": 15,
   "metadata": {},
   "outputs": [],
   "source": [
    "# Age"
   ]
  },
  {
   "cell_type": "code",
   "execution_count": 16,
   "metadata": {},
   "outputs": [],
   "source": [
    "# Work load Average/day\n",
    "# What is the unit ?\n",
    "data.rename({'Work load Average/day ': 'Work load Average/day'}, axis=1, inplace=True)"
   ]
  },
  {
   "cell_type": "code",
   "execution_count": 17,
   "metadata": {},
   "outputs": [],
   "source": [
    "# Hit target\n",
    "# What is this ?"
   ]
  },
  {
   "cell_type": "code",
   "execution_count": 18,
   "metadata": {},
   "outputs": [],
   "source": [
    "# Disciplinary failure\n",
    "data['Disciplinary failure'] = data['Disciplinary failure'].astype(bool)"
   ]
  },
  {
   "cell_type": "code",
   "execution_count": 19,
   "metadata": {},
   "outputs": [],
   "source": [
    "# Education \n",
    "mapping = {\n",
    "    1: 'High School',\n",
    "    2: 'Graduate',\n",
    "    3: 'Post-graduate',\n",
    "    4: 'Master and Doctor'\n",
    "}\n",
    "data['Education'] = data['Education'].replace(mapping)\n",
    "data['Education'] = data['Education'].astype('category')"
   ]
  },
  {
   "cell_type": "code",
   "execution_count": 20,
   "metadata": {},
   "outputs": [],
   "source": [
    "# Son\n",
    "data.rename({'Son': 'Children'}, axis=1, inplace=True)"
   ]
  },
  {
   "cell_type": "code",
   "execution_count": 21,
   "metadata": {},
   "outputs": [],
   "source": [
    "# Social drinker\n",
    "data['Social drinker'] = data['Social drinker'].astype(bool)"
   ]
  },
  {
   "cell_type": "code",
   "execution_count": 22,
   "metadata": {},
   "outputs": [],
   "source": [
    "# Social smoker\n",
    "data['Social smoker'] = data['Social smoker'].astype(bool)"
   ]
  },
  {
   "cell_type": "code",
   "execution_count": 23,
   "metadata": {},
   "outputs": [],
   "source": [
    "# Pet"
   ]
  },
  {
   "cell_type": "code",
   "execution_count": 24,
   "metadata": {},
   "outputs": [],
   "source": [
    "# Weight"
   ]
  },
  {
   "cell_type": "code",
   "execution_count": 25,
   "metadata": {},
   "outputs": [],
   "source": [
    "# Height"
   ]
  },
  {
   "cell_type": "code",
   "execution_count": 26,
   "metadata": {},
   "outputs": [],
   "source": [
    "# Body mass index"
   ]
  },
  {
   "cell_type": "code",
   "execution_count": 27,
   "metadata": {},
   "outputs": [],
   "source": [
    "# Absenteeism time in hours\n",
    "data = data.rename({'Absenteeism time in hours': 'Absenteeism'}, axis=1)"
   ]
  },
  {
   "cell_type": "code",
   "execution_count": 28,
   "metadata": {},
   "outputs": [
    {
     "output_type": "stream",
     "name": "stdout",
     "text": [
      "<class 'pandas.core.frame.DataFrame'>\nInt64Index: 663 entries, 0 to 736\nData columns (total 21 columns):\n #   Column                           Non-Null Count  Dtype   \n---  ------                           --------------  -----   \n 0   ID                               663 non-null    category\n 1   Reason for absence               663 non-null    category\n 2   Month of absence                 663 non-null    category\n 3   Day of the week                  663 non-null    category\n 4   Seasons                          663 non-null    category\n 5   Transportation expense           663 non-null    int64   \n 6   Distance from Residence to Work  663 non-null    int64   \n 7   Service time                     663 non-null    int64   \n 8   Age                              663 non-null    int64   \n 9   Work load Average/day            663 non-null    float64 \n 10  Hit target                       663 non-null    int64   \n 11  Disciplinary failure             663 non-null    bool    \n 12  Education                        663 non-null    category\n 13  Children                         663 non-null    int64   \n 14  Social drinker                   663 non-null    bool    \n 15  Social smoker                    663 non-null    bool    \n 16  Pet                              663 non-null    int64   \n 17  Weight                           663 non-null    int64   \n 18  Height                           663 non-null    int64   \n 19  Body mass index                  663 non-null    int64   \n 20  Absenteeism                      663 non-null    int64   \ndtypes: bool(3), category(6), float64(1), int64(11)\nmemory usage: 77.1 KB\n"
     ]
    }
   ],
   "source": [
    "# Info\n",
    "data.info()"
   ]
  },
  {
   "cell_type": "code",
   "execution_count": 29,
   "metadata": {},
   "outputs": [
    {
     "output_type": "stream",
     "name": "stderr",
     "text": [
      "Summarize dataset: 100%|██████████| 35/35 [00:19<00:00,  1.76it/s, Completed]\n",
      "Generate report structure: 100%|██████████| 1/1 [00:05<00:00,  5.28s/it]\n",
      "Render HTML: 100%|██████████| 1/1 [00:03<00:00,  3.98s/it]\n",
      "Export report to file: 100%|██████████| 1/1 [00:00<00:00, 19.49it/s]\n"
     ]
    }
   ],
   "source": [
    "# Profiling clean data\n",
    "data = data.reset_index(drop=True)\n",
    "profile = ProfileReport(data, title='Clean Data Profile Report')\n",
    "profile.to_file('docs/clean_profiling.html') # Online rendering purpose"
   ]
  },
  {
   "cell_type": "code",
   "execution_count": 30,
   "metadata": {},
   "outputs": [],
   "source": [
    "# Save clean dataset\n",
    "data.to_pickle('data/clean.pkl')"
   ]
  }
 ]
}