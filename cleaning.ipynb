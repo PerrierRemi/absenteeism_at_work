{
 "metadata": {
  "language_info": {
   "codemirror_mode": {
    "name": "ipython",
    "version": 3
   },
   "file_extension": ".py",
   "mimetype": "text/x-python",
   "name": "python",
   "nbconvert_exporter": "python",
   "pygments_lexer": "ipython3",
   "version": "3.8.6-final"
  },
  "orig_nbformat": 2,
  "kernelspec": {
   "name": "Python 3.8.6 64-bit",
   "display_name": "Python 3.8.6 64-bit",
   "metadata": {
    "interpreter": {
     "hash": "879a9639522b42d9d3d0a34b4a65d8a50cd27bd2b71b44ff59bd543bc172e59f"
    }
   }
  }
 },
 "nbformat": 4,
 "nbformat_minor": 2,
 "cells": [
  {
   "cell_type": "code",
   "execution_count": 1,
   "metadata": {},
   "outputs": [],
   "source": [
    "import pandas as pd\n",
    "from pandas_profiling import ProfileReport"
   ]
  },
  {
   "cell_type": "code",
   "execution_count": 2,
   "metadata": {},
   "outputs": [],
   "source": [
    "data = pd.read_csv('data/raw.csv', sep=';')"
   ]
  },
  {
   "cell_type": "code",
   "execution_count": 3,
   "metadata": {},
   "outputs": [
    {
     "output_type": "stream",
     "name": "stdout",
     "text": [
      "<class 'pandas.core.frame.DataFrame'>\nRangeIndex: 740 entries, 0 to 739\nData columns (total 21 columns):\n #   Column                           Non-Null Count  Dtype  \n---  ------                           --------------  -----  \n 0   ID                               740 non-null    int64  \n 1   Reason for absence               740 non-null    int64  \n 2   Month of absence                 740 non-null    int64  \n 3   Day of the week                  740 non-null    int64  \n 4   Seasons                          740 non-null    int64  \n 5   Transportation expense           740 non-null    int64  \n 6   Distance from Residence to Work  740 non-null    int64  \n 7   Service time                     740 non-null    int64  \n 8   Age                              740 non-null    int64  \n 9   Work load Average/day            740 non-null    float64\n 10  Hit target                       740 non-null    int64  \n 11  Disciplinary failure             740 non-null    int64  \n 12  Education                        740 non-null    int64  \n 13  Son                              740 non-null    int64  \n 14  Social drinker                   740 non-null    int64  \n 15  Social smoker                    740 non-null    int64  \n 16  Pet                              740 non-null    int64  \n 17  Weight                           740 non-null    int64  \n 18  Height                           740 non-null    int64  \n 19  Body mass index                  740 non-null    int64  \n 20  Absenteeism time in hours        740 non-null    int64  \ndtypes: float64(1), int64(20)\nmemory usage: 121.5 KB\n"
     ]
    }
   ],
   "source": [
    "# Info\n",
    "data.info()"
   ]
  },
  {
   "cell_type": "code",
   "execution_count": 4,
   "metadata": {},
   "outputs": [],
   "source": [
    "# Profiling raw data\n",
    "profile = ProfileReport(data, title='Raw Data Profile Report')\n",
    "profile.to_file('profiling/raw_profiling.html')"
   ]
  },
  {
   "cell_type": "code",
   "execution_count": 5,
   "metadata": {},
   "outputs": [],
   "source": [
    "# Delete duplicated rows\n",
    "data = data.drop_duplicates()"
   ]
  },
  {
   "cell_type": "code",
   "execution_count": 6,
   "metadata": {},
   "outputs": [],
   "source": [
    "# ID\n",
    "data['ID'] = data['ID'].astype('category')"
   ]
  },
  {
   "cell_type": "code",
   "execution_count": 7,
   "metadata": {},
   "outputs": [],
   "source": [
    "# Reason for absence\n",
    "data = data[data['Reason for absence'] != 0]\n",
    "data['Reason for absence'] = data['Reason for absence'].astype('category')\n"
   ]
  },
  {
   "cell_type": "code",
   "execution_count": 8,
   "metadata": {},
   "outputs": [],
   "source": [
    "# Month of absence\n",
    "data = data[data['Month of absence'] != 0]\n",
    "mapping = {\n",
    "    1: 'Jan',\n",
    "    2: 'Feb',\n",
    "    3: 'Mar',\n",
    "    4: 'Apr',\n",
    "    5: 'May',\n",
    "    6: 'Jun',\n",
    "    7: 'Jul',\n",
    "    8: 'Aug',\n",
    "    9: 'Sep',\n",
    "    10: 'Oct',\n",
    "    11: 'Nov',\n",
    "    12: 'Dec'\n",
    "}\n",
    "data['Month of absence'] = data['Month of absence'].replace(mapping)\n",
    "data['Month of absence'] = data['Month of absence'].astype('category')"
   ]
  },
  {
   "cell_type": "code",
   "execution_count": 9,
   "metadata": {},
   "outputs": [],
   "source": [
    "# Day of the week\n",
    "mapping = {\n",
    "    2: 'Monday',\n",
    "    3: 'Tuesday',\n",
    "    4: 'Wednesday',\n",
    "    5: 'Thursday',\n",
    "    6: 'Friday'\n",
    "}\n",
    "data['Day of the week'] = data['Day of the week'].replace(mapping)\n",
    "data['Day of the week'] = data['Day of the week'].astype('category')"
   ]
  },
  {
   "cell_type": "code",
   "execution_count": 10,
   "metadata": {},
   "outputs": [],
   "source": [
    "# Seasons \n",
    "mapping = {\n",
    "    1: 'Summer',\n",
    "    2: 'Autumn',\n",
    "    3: 'Winter',\n",
    "    4: 'Spring'\n",
    "}\n",
    "data['Seasons'] = data['Seasons'].replace(mapping)\n",
    "data['Seasons'] = data['Seasons'].astype('category')"
   ]
  },
  {
   "cell_type": "code",
   "execution_count": 11,
   "metadata": {},
   "outputs": [],
   "source": [
    "# Transportation expense"
   ]
  },
  {
   "cell_type": "code",
   "execution_count": 12,
   "metadata": {},
   "outputs": [],
   "source": [
    "# Distance from Residence to Work"
   ]
  },
  {
   "cell_type": "code",
   "execution_count": 13,
   "metadata": {},
   "outputs": [],
   "source": [
    "# Service time"
   ]
  },
  {
   "cell_type": "code",
   "execution_count": 14,
   "metadata": {},
   "outputs": [],
   "source": [
    "# Age"
   ]
  },
  {
   "cell_type": "code",
   "execution_count": 15,
   "metadata": {},
   "outputs": [],
   "source": [
    "# Work load Average/day\n",
    "# What is the unit ?\n",
    "data.rename({'Work load Average/day ': 'Work load Average/day'}, axis=1, inplace=True)"
   ]
  },
  {
   "cell_type": "code",
   "execution_count": 16,
   "metadata": {},
   "outputs": [],
   "source": [
    "# Hit target\n",
    "# What is this ?"
   ]
  },
  {
   "cell_type": "code",
   "execution_count": 17,
   "metadata": {},
   "outputs": [],
   "source": [
    "# Disciplinary failure\n",
    "data['Disciplinary failure'] = data['Disciplinary failure'].astype(bool)"
   ]
  },
  {
   "cell_type": "code",
   "execution_count": 18,
   "metadata": {},
   "outputs": [],
   "source": [
    "# Education \n",
    "mapping = {\n",
    "    1: 'High School',\n",
    "    2: 'Graduate',\n",
    "    3: 'Post-graduate',\n",
    "    4: 'Master and Doctor'\n",
    "}\n",
    "data['Education'] = data['Education'].replace(mapping)\n",
    "data['Education'] = data['Education'].astype('category')"
   ]
  },
  {
   "cell_type": "code",
   "execution_count": 19,
   "metadata": {},
   "outputs": [],
   "source": [
    "# Son\n",
    "data.rename({'Son': 'Children'}, axis=1, inplace=True)"
   ]
  },
  {
   "cell_type": "code",
   "execution_count": 20,
   "metadata": {},
   "outputs": [],
   "source": [
    "# Social drinker\n",
    "data['Social drinker'] = data['Social drinker'].astype(bool)"
   ]
  },
  {
   "cell_type": "code",
   "execution_count": 21,
   "metadata": {},
   "outputs": [],
   "source": [
    "# Social smoker\n",
    "data['Social smoker'] = data['Social smoker'].astype(bool)"
   ]
  },
  {
   "cell_type": "code",
   "execution_count": 22,
   "metadata": {},
   "outputs": [],
   "source": [
    "# Pet"
   ]
  },
  {
   "cell_type": "code",
   "execution_count": 23,
   "metadata": {},
   "outputs": [],
   "source": [
    "# Weight"
   ]
  },
  {
   "cell_type": "code",
   "execution_count": 24,
   "metadata": {},
   "outputs": [],
   "source": [
    "# Height"
   ]
  },
  {
   "cell_type": "code",
   "execution_count": 25,
   "metadata": {},
   "outputs": [],
   "source": [
    "# Body mass index"
   ]
  },
  {
   "cell_type": "code",
   "execution_count": 26,
   "metadata": {},
   "outputs": [],
   "source": [
    "# Absenteeism time in hours\n",
    "data.rename({'Absenteeism time in hours': 'Absenteeism'}, axis=1, inplace=True)"
   ]
  },
  {
   "cell_type": "code",
   "execution_count": 27,
   "metadata": {},
   "outputs": [
    {
     "output_type": "stream",
     "name": "stdout",
     "text": [
      "<class 'pandas.core.frame.DataFrame'>\nInt64Index: 663 entries, 0 to 736\nData columns (total 21 columns):\n #   Column                           Non-Null Count  Dtype   \n---  ------                           --------------  -----   \n 0   ID                               663 non-null    category\n 1   Reason for absence               663 non-null    category\n 2   Month of absence                 663 non-null    category\n 3   Day of the week                  663 non-null    category\n 4   Seasons                          663 non-null    category\n 5   Transportation expense           663 non-null    int64   \n 6   Distance from Residence to Work  663 non-null    int64   \n 7   Service time                     663 non-null    int64   \n 8   Age                              663 non-null    int64   \n 9   Work load Average/day            663 non-null    float64 \n 10  Hit target                       663 non-null    int64   \n 11  Disciplinary failure             663 non-null    bool    \n 12  Education                        663 non-null    category\n 13  Children                         663 non-null    int64   \n 14  Social drinker                   663 non-null    bool    \n 15  Social smoker                    663 non-null    bool    \n 16  Pet                              663 non-null    int64   \n 17  Weight                           663 non-null    int64   \n 18  Height                           663 non-null    int64   \n 19  Body mass index                  663 non-null    int64   \n 20  Absenteeism                      663 non-null    int64   \ndtypes: bool(3), category(6), float64(1), int64(11)\nmemory usage: 77.1 KB\n"
     ]
    }
   ],
   "source": [
    "# Info\n",
    "data.info()"
   ]
  },
  {
   "cell_type": "code",
   "execution_count": 28,
   "metadata": {},
   "outputs": [],
   "source": [
    "# Profiling clean data\n",
    "profile = ProfileReport(data, title='Clean Data Profile Report', explorative=True)\n",
    "profile.to_file('profiling/clean_profiling.html')\n",
    "profile.to_file('docs/clean_profiling.html') # Online rendering purpose"
   ]
  },
  {
   "cell_type": "code",
   "execution_count": 29,
   "metadata": {},
   "outputs": [],
   "source": [
    "# Save clean dataset\n",
    "data.to_pickle('data/clean.pkl')"
   ]
  }
 ]
}